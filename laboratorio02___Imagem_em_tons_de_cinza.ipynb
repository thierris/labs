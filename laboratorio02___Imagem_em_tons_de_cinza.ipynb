{
  "nbformat": 4,
  "nbformat_minor": 0,
  "metadata": {
    "colab": {
      "name": "laboratorio02_-_Imagem_em_tons_de_cinza.ipynb",
      "provenance": [],
      "collapsed_sections": [],
      "include_colab_link": true
    },
    "kernelspec": {
      "name": "python3",
      "display_name": "Python 3"
    }
  },
  "cells": [
    {
      "cell_type": "markdown",
      "metadata": {
        "id": "view-in-github",
        "colab_type": "text"
      },
      "source": [
        "<a href=\"https://colab.research.google.com/github/thierris/labs/blob/master/laboratorio02___Imagem_em_tons_de_cinza.ipynb\" target=\"_parent\"><img src=\"https://colab.research.google.com/assets/colab-badge.svg\" alt=\"Open In Colab\"/></a>"
      ]
    },
    {
      "cell_type": "markdown",
      "metadata": {
        "id": "cmAO-DMh9V2c",
        "colab_type": "text"
      },
      "source": [
        "# Laboratório #02\n",
        "\n",
        "Neste trabalho, iremos tratar das imagens em tons de cinza. Este trabalho é baseado no [artigo](https://brohrer.github.io/convert_rgb_to_grayscale.html).\n",
        "\n",
        "Este trabalho será efetuado em quatro partes:\n",
        "\n",
        "*  Utilizar a média para calcular a imagem em tons de cinza;\n",
        "*  Aplicar percepção de luminância dependente\n",
        "*  Aplicar compressão gama\n",
        "*  Aplicar aproximação linear\n",
        "\n",
        "Neste primeiro espaço de código, carregar as bibliotecas necessárias, e a imagem a ser trabalhada. Procurem uma imagem colorida, e plotem ela abaixo.\n",
        "\n",
        "Para todas as etapas, plotem a imagem resultante.\n",
        "\n"
      ]
    },
    {
      "cell_type": "code",
      "metadata": {
        "id": "4_4OrgpX9CLG",
        "colab_type": "code",
        "colab": {
          "base_uri": "https://localhost:8080/",
          "height": 104
        },
        "outputId": "45e6abb3-aa88-4aa3-ea48-f241ac6b79b8"
      },
      "source": [
        "!pip install requests\n",
        "\n",
        "import matplotlib.pyplot as plt\n",
        "from PIL import Image\n",
        "from numpy import array\n",
        "import requests\n",
        "from io import BytesIO\n",
        "import numpy as np\n",
        "import pandas as pd"
      ],
      "execution_count": 1,
      "outputs": [
        {
          "output_type": "stream",
          "text": [
            "Requirement already satisfied: requests in /usr/local/lib/python3.6/dist-packages (2.23.0)\n",
            "Requirement already satisfied: urllib3!=1.25.0,!=1.25.1,<1.26,>=1.21.1 in /usr/local/lib/python3.6/dist-packages (from requests) (1.24.3)\n",
            "Requirement already satisfied: certifi>=2017.4.17 in /usr/local/lib/python3.6/dist-packages (from requests) (2020.4.5.1)\n",
            "Requirement already satisfied: idna<3,>=2.5 in /usr/local/lib/python3.6/dist-packages (from requests) (2.9)\n",
            "Requirement already satisfied: chardet<4,>=3.0.2 in /usr/local/lib/python3.6/dist-packages (from requests) (3.0.4)\n"
          ],
          "name": "stdout"
        }
      ]
    },
    {
      "cell_type": "markdown",
      "metadata": {
        "id": "EFzWZFeZ_cBM",
        "colab_type": "text"
      },
      "source": [
        "## Utilizar a média para calcular a imagem em tons de cinza"
      ]
    },
    {
      "cell_type": "code",
      "metadata": {
        "id": "xE9EgZ3ORYNu",
        "colab_type": "code",
        "colab": {}
      },
      "source": [
        "response = requests.get('https://www.placecage.com/640/360')\n",
        "img = Image.open(BytesIO(response.content)).convert()\n",
        "plt.imshow(img)\n",
        "plt.axis('off')\n",
        "plt.show()"
      ],
      "execution_count": 0,
      "outputs": []
    },
    {
      "cell_type": "markdown",
      "metadata": {
        "id": "eAMndCzm_ffE",
        "colab_type": "text"
      },
      "source": [
        "## Aplicar percepção de luminância dependente"
      ]
    },
    {
      "cell_type": "code",
      "metadata": {
        "id": "kjLXY7JC_iM7",
        "colab_type": "code",
        "colab": {}
      },
      "source": [
        ""
      ],
      "execution_count": 0,
      "outputs": []
    },
    {
      "cell_type": "markdown",
      "metadata": {
        "id": "qKFU5Vir_isU",
        "colab_type": "text"
      },
      "source": [
        "## Aplicar compressão gama"
      ]
    },
    {
      "cell_type": "code",
      "metadata": {
        "id": "aMVHXiZe_kDh",
        "colab_type": "code",
        "colab": {}
      },
      "source": [
        ""
      ],
      "execution_count": 0,
      "outputs": []
    },
    {
      "cell_type": "markdown",
      "metadata": {
        "id": "3dVN6Z8g_k0k",
        "colab_type": "text"
      },
      "source": [
        "## Aplicar aproximação linear"
      ]
    },
    {
      "cell_type": "code",
      "metadata": {
        "id": "1pzWxYUc_l84",
        "colab_type": "code",
        "colab": {}
      },
      "source": [
        ""
      ],
      "execution_count": 0,
      "outputs": []
    }
  ]
}